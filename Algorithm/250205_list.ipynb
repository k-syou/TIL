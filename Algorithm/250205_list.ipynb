{
 "cells": [
  {
   "cell_type": "code",
   "execution_count": 2,
   "metadata": {},
   "outputs": [
    {
     "name": "stdout",
     "output_type": "stream",
     "text": [
      "22\n"
     ]
    }
   ],
   "source": [
    "# sum\n",
    "arr = [2,1,7,3,5,4]\n",
    "tot = 0\n",
    "for x in arr:\n",
    "    tot += x\n",
    "print(tot)"
   ]
  },
  {
   "cell_type": "code",
   "execution_count": 3,
   "metadata": {},
   "outputs": [
    {
     "name": "stdout",
     "output_type": "stream",
     "text": [
      "7\n"
     ]
    }
   ],
   "source": [
    "# max\n",
    "arr = [2,1,7,3,5,4]\n",
    "max_v = arr[0]\n",
    "for x in arr[1:]:\n",
    "    if max_v < x:\n",
    "        max_v = x\n",
    "print(max_v)"
   ]
  },
  {
   "cell_type": "code",
   "execution_count": 4,
   "metadata": {},
   "outputs": [
    {
     "name": "stdout",
     "output_type": "stream",
     "text": [
      "1\n"
     ]
    }
   ],
   "source": [
    "# min\n",
    "arr = [2,1,7,3,5,4]\n",
    "min_v = arr[0]\n",
    "for x in arr[1:]:\n",
    "    if min_v > x:\n",
    "        min_v = x\n",
    "print(min_v)"
   ]
  },
  {
   "cell_type": "code",
   "execution_count": 6,
   "metadata": {},
   "outputs": [
    {
     "name": "stdout",
     "output_type": "stream",
     "text": [
      "2\n"
     ]
    }
   ],
   "source": [
    "# max idx\n",
    "N = 6\n",
    "arr = [2,1,7,3,5,4]\n",
    "max_idx = 0\n",
    "\n",
    "for i in range(1,N):\n",
    "    if arr[max_idx] < arr[i]:\n",
    "        max_idx = i\n",
    "\n",
    "print(max_idx)"
   ]
  },
  {
   "cell_type": "code",
   "execution_count": 7,
   "metadata": {},
   "outputs": [
    {
     "name": "stdout",
     "output_type": "stream",
     "text": [
      "2\n"
     ]
    }
   ],
   "source": [
    "# index of\n",
    "N = 6\n",
    "arr = [2,1,7,3,5,4]\n",
    "idx = -1\n",
    "x = 7\n",
    "\n",
    "for i in range(1,N):\n",
    "    if arr[i] == x:\n",
    "        idx = i\n",
    "        break\n",
    "\n",
    "print(idx)"
   ]
  },
  {
   "cell_type": "code",
   "execution_count": null,
   "metadata": {},
   "outputs": [],
   "source": [
    "# 4828\n",
    "T = int(input())\n",
    "for t in range(1, T+1):\n",
    "    N = int(input())\n",
    "    arr = [*map(int, input().split())]\n",
    "    min_v = arr[0]\n",
    "    max_v = arr[0]\n",
    "    for num in arr[1:]:\n",
    "        min_v = num if min_v > num else min_v\n",
    "        max_v = num if max_v < num else max_v\n",
    "    print(f'#{t} {max_v - min_v}')"
   ]
  },
  {
   "cell_type": "code",
   "execution_count": 8,
   "metadata": {},
   "outputs": [
    {
     "name": "stdout",
     "output_type": "stream",
     "text": [
      "7\n"
     ]
    }
   ],
   "source": [
    "# Gravity\n",
    "# N = int(input())\n",
    "# boxes = [*map(int, input().split())]\n",
    "N = 9\n",
    "boxes = [7, 4, 2, 0, 0, 6, 0, 7, 0]\n",
    "max_v = 0\n",
    "\n",
    "for i in range(N):\n",
    "    count = len([box for box in boxes[i+1:] if box < boxes[i]])\n",
    "    max_v = count if count > max_v else max_v\n",
    "\n",
    "print(max_v)"
   ]
  },
  {
   "cell_type": "code",
   "execution_count": 18,
   "metadata": {},
   "outputs": [
    {
     "name": "stdout",
     "output_type": "stream",
     "text": [
      "[55, 7, 78, 12, 42]\n",
      "[7, 12, 42, 55, 78]\n"
     ]
    }
   ],
   "source": [
    "# 버블정렬\n",
    "arr = [55, 7, 78, 12, 42]\n",
    "\n",
    "print(arr)\n",
    "\n",
    "def bubble_sort(arr, N):\n",
    "    for i in range(N-1, 0, -1):\n",
    "        for j in range(i):\n",
    "            if arr[j] > arr[j+1]:\n",
    "                arr[j], arr[j+1] = arr[j+1], arr[j]\n",
    "    return arr\n",
    "\n",
    "print(bubble_sort(arr, len(arr)))"
   ]
  },
  {
   "cell_type": "code",
   "execution_count": 23,
   "metadata": {},
   "outputs": [
    {
     "name": "stdout",
     "output_type": "stream",
     "text": [
      "0:00:09.041593\n"
     ]
    }
   ],
   "source": [
    "from datetime import datetime\n",
    "start = datetime.now()\n",
    "x = 0\n",
    "for i in range(10**8):\n",
    "    x += i\n",
    "end = datetime.now()\n",
    "print((end-start))"
   ]
  },
  {
   "cell_type": "code",
   "execution_count": 21,
   "metadata": {},
   "outputs": [
    {
     "name": "stdout",
     "output_type": "stream",
     "text": [
      "[0, 4, 1, 3, 1, 2, 4, 1]\n",
      "[0, 1, 1, 1, 2, 3, 4, 4]\n"
     ]
    }
   ],
   "source": [
    "# 카운팅 정렬\n",
    "data = [0, 4, 1, 3, 1, 2, 4, 1]\n",
    "\n",
    "print(data)\n",
    "\n",
    "def counting_sort(arr, N, k):\n",
    "    count_length = k + 1\n",
    "    count = [0] * count_length\n",
    "\n",
    "    for num in arr:\n",
    "        count[num] += 1\n",
    "\n",
    "    for i in range(1, count_length):\n",
    "        count[i] += count[i-1]\n",
    "\n",
    "    temp = [0] * N\n",
    "\n",
    "    for num in arr:\n",
    "        count[num] -= 1\n",
    "        idx = count[num]\n",
    "        temp[idx] = num\n",
    "    return temp\n",
    "\n",
    "print(counting_sort(data, len(data), max(data)))"
   ]
  },
  {
   "cell_type": "code",
   "execution_count": null,
   "metadata": {},
   "outputs": [],
   "source": [
    "# 4831\n",
    "T = int(input())\n",
    "for tc in range(1, T+1):\n",
    "    K,N,M = map(int, input().split())\n",
    "    batterys = [*map(int, input().split())]\n",
    "    stops = [False] * N\n",
    "    for battery in batterys:\n",
    "        stops[battery] = True\n",
    "\n",
    "    now = 0\n",
    "    count = 0\n",
    "    while now < N:\n",
    "        print(now)\n",
    "        tmp = now\n",
    "        now += K\n",
    "        if now >= N:\n",
    "            now = N\n",
    "            break\n",
    "        for i in range(now, now-K-1,-1):\n",
    "            if stops[i]:\n",
    "                now = i\n",
    "                count += 1\n",
    "                break\n",
    "        if tmp == now:\n",
    "            break\n",
    "    \n",
    "    if now != N:\n",
    "        count = 0\n",
    "    \n",
    "    print(f'#{tc} {count}')\n",
    "    \n"
   ]
  }
 ],
 "metadata": {
  "kernelspec": {
   "display_name": "Python 3",
   "language": "python",
   "name": "python3"
  },
  "language_info": {
   "codemirror_mode": {
    "name": "ipython",
    "version": 3
   },
   "file_extension": ".py",
   "mimetype": "text/x-python",
   "name": "python",
   "nbconvert_exporter": "python",
   "pygments_lexer": "ipython3",
   "version": "3.9.13"
  }
 },
 "nbformat": 4,
 "nbformat_minor": 2
}
