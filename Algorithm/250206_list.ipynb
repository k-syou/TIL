{
 "cells": [
  {
   "cell_type": "code",
   "execution_count": 140,
   "metadata": {},
   "outputs": [
    {
     "name": "stdout",
     "output_type": "stream",
     "text": [
      "True\n",
      "True\n",
      "False\n",
      "False\n",
      "True\n"
     ]
    }
   ],
   "source": [
    "# Baby-gin game\n",
    "## greedy\n",
    "# sort를 할경우 1,2,3,1,2,3 과 같은 경우\n",
    "# 1,1,2,2,3,3 이 되므로 정상적으로 판단하지 못하는 반례가 존재한다다\n",
    "import random\n",
    "def get_random_cards(N):\n",
    "    result = []\n",
    "    for _ in range(N):\n",
    "        result.append(random.randint(0,9))\n",
    "    return result\n",
    "\n",
    "def is_baby_gin(cards, N):\n",
    "    if N % 3:\n",
    "        return False\n",
    "    \n",
    "    sorted_cards = sorted(cards)\n",
    "    check = N\n",
    "    i = 0\n",
    "\n",
    "    while i < N - 2:\n",
    "        if sorted_cards[i] == sorted_cards[i+1] == sorted_cards[i+2] or sorted_cards[i] + 2 == sorted_cards[i+1] + 1 == sorted_cards[i+2]:\n",
    "            check -= 3\n",
    "        i += 3\n",
    "    \n",
    "    return not check\n",
    "\n",
    "print(is_baby_gin([6,6,7,7,6,7], 6)) # True\n",
    "print(is_baby_gin([0,5,4,0,6,0], 6)) # True\n",
    "print(is_baby_gin([1,0,1,1,2,3], 6)) # False\n",
    "print(is_baby_gin([1,2,3,1,2,3], 6)) # False | 정답 : True\n",
    "print(is_baby_gin([4,4,4,4,5,6], 6)) # True"
   ]
  },
  {
   "cell_type": "code",
   "execution_count": 139,
   "metadata": {},
   "outputs": [
    {
     "name": "stdout",
     "output_type": "stream",
     "text": [
      "True\n",
      "True\n",
      "False\n",
      "True\n",
      "True\n"
     ]
    }
   ],
   "source": [
    "# Baby-gin game\n",
    "## 완전탐색\n",
    "def permutation(arr, N, R):\n",
    "    result = []\n",
    "    visited = [False] * N\n",
    "\n",
    "    def backtrack(temp):\n",
    "        if len(temp) == R:\n",
    "            result.append(temp)\n",
    "            return\n",
    "        \n",
    "        for i in range(N):\n",
    "            if not visited[i]:\n",
    "                visited[i] = True\n",
    "                backtrack(temp + [arr[i]])\n",
    "                visited[i] = False\n",
    "    \n",
    "    backtrack([])\n",
    "    return result\n",
    "\n",
    "def is_baby_gin(cards, N):\n",
    "    if N % 3:\n",
    "        return False\n",
    "    permutation_list = permutation(cards, N, N)\n",
    "    for card_list in permutation_list:\n",
    "        check = N\n",
    "        for i in range(0, N-2, 3):\n",
    "            if card_list[i] == card_list[i+1] == card_list[i+2] or card_list[i] + 2 == card_list[i+1] + 1 == card_list[i+2]:\n",
    "                check -= 3\n",
    "        if not check:\n",
    "            return True\n",
    "    return False\n",
    "\n",
    "print(is_baby_gin([6,6,7,7,6,7], 6)) # True\n",
    "print(is_baby_gin([0,5,4,0,6,0], 6)) # True\n",
    "print(is_baby_gin([1,0,1,1,2,3], 6)) # False\n",
    "print(is_baby_gin([1,2,3,1,2,3], 6)) # True\n",
    "print(is_baby_gin([4,4,4,4,5,6], 6)) # True"
   ]
  },
  {
   "cell_type": "code",
   "execution_count": 144,
   "metadata": {},
   "outputs": [
    {
     "name": "stdout",
     "output_type": "stream",
     "text": [
      "2.346 %\n",
      "True\n"
     ]
    }
   ],
   "source": [
    "## greedy\n",
    "## counting을 활용하여 해결\n",
    "def is_baby_gin(cards, N, k):\n",
    "    if N % 3:\n",
    "        return False\n",
    "    counts = [0] * (k + 2)\n",
    "    for card in cards:\n",
    "        counts[card] += 1\n",
    "    \n",
    "    i = tri = run = 0\n",
    "    while i < k:\n",
    "        # tri check\n",
    "        if counts[i] >= 3:\n",
    "            counts[i] -= 3\n",
    "            tri += 1\n",
    "            continue\n",
    "        \n",
    "        # run check\n",
    "        if counts[i] > 0 and counts[i+1] > 0 and counts[i+2] > 0:\n",
    "            counts[i] -= 1\n",
    "            counts[i+1] -= 1\n",
    "            counts[i+2] -= 1\n",
    "            run += 1\n",
    "            continue\n",
    "\n",
    "        i += 1\n",
    "    \n",
    "    return tri + run == N // 3\n",
    "\n",
    "baby_gin_count = 0\n",
    "try_count = 10**5\n",
    "for _ in range(try_count):\n",
    "    random_cards = get_random_cards(6)\n",
    "    # print(random_cards, is_baby_gin(random_cards, 6))\n",
    "    baby_gin_count += is_baby_gin(random_cards, 6, 10)\n",
    "\n",
    "print(baby_gin_count / try_count * 100, '%')\n",
    "\n",
    "print(is_baby_gin([1,2,3,1,2,3], 6, 10))    \n",
    "\n",
    "# print(is_baby_gin([6,6,7,7,6,7], 6, 10)) # True\n",
    "# print(is_baby_gin([0,5,4,0,6,0], 6, 10)) # True\n",
    "# print(is_baby_gin([1,0,1,1,2,3], 6, 10)) # False\n",
    "# print(is_baby_gin([1,2,3,1,2,3], 6, 10)) # True\n",
    "# print(is_baby_gin([4,4,4,4,5,6], 6, 10)) # True"
   ]
  },
  {
   "cell_type": "code",
   "execution_count": 146,
   "metadata": {},
   "outputs": [
    {
     "name": "stdout",
     "output_type": "stream",
     "text": [
      "0:00:08.006975\n"
     ]
    }
   ],
   "source": [
    "from datetime import datetime\n",
    "start = datetime.now()\n",
    "n = 10 ** 8\n",
    "a = 0\n",
    "for _ in range(n):\n",
    "    a += 1\n",
    "end = datetime.now()\n",
    "print(end - start)"
   ]
  },
  {
   "cell_type": "code",
   "execution_count": 6,
   "metadata": {},
   "outputs": [
    {
     "name": "stdout",
     "output_type": "stream",
     "text": [
      "[[[1, -1, -1], [-1, -1, -1], [-1, -1, -1], [-1, -1, -1]],\n",
      " [[-1, -1, -1], [-1, -1, -1], [-1, -1, -1], [-1, -1, -1]],\n",
      " [[-1, -1, -1], [-1, -1, -1], [-1, -1, -1], [-1, -1, -1]],\n",
      " [[-1, -1, -1], [-1, -1, -1], [-1, -1, -1], [-1, -1, -1]]]\n"
     ]
    }
   ],
   "source": [
    "from pprint import pprint\n",
    "N = 4\n",
    "arr = [[[-1,-1,-1] for _ in range(N)] for _ in range(N)]\n",
    "arr[0][0][0] = 1\n",
    "pprint(arr)"
   ]
  }
 ],
 "metadata": {
  "kernelspec": {
   "display_name": "Python 3",
   "language": "python",
   "name": "python3"
  },
  "language_info": {
   "codemirror_mode": {
    "name": "ipython",
    "version": 3
   },
   "file_extension": ".py",
   "mimetype": "text/x-python",
   "name": "python",
   "nbconvert_exporter": "python",
   "pygments_lexer": "ipython3",
   "version": "3.9.13"
  }
 },
 "nbformat": 4,
 "nbformat_minor": 2
}
