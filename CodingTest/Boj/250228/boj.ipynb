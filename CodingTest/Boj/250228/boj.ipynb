{
 "cells": [
  {
   "cell_type": "code",
   "execution_count": 6,
   "metadata": {},
   "outputs": [
    {
     "name": "stdout",
     "output_type": "stream",
     "text": [
      "111 -= 0b1101111 & -0b1101111 == 0b1\n",
      "00b1101111\n",
      "-0b1101111\n",
      "110 -= 0b1101110 & -0b1101110 == 0b10\n",
      "00b1101110\n",
      "-0b1101110\n",
      "108 -= 0b1101100 & -0b1101100 == 0b100\n",
      "00b1101100\n",
      "-0b1101100\n",
      "104 -= 0b1101000 & -0b1101000 == 0b1000\n",
      "00b1101000\n",
      "-0b1101000\n",
      "96 -= 0b1100000 & -0b1100000 == 0b100000\n",
      "00b1100000\n",
      "-0b1100000\n",
      "64 -= 0b1000000 & -0b1000000 == 0b1000000\n",
      "00b1000000\n",
      "-0b1000000\n",
      "0\n"
     ]
    }
   ],
   "source": [
    "i = 111\n",
    "while i > 0:\n",
    "    print(f\"{i} -= {bin(i)} & {bin(-i)} == {bin(i & -i)}\")\n",
    "    print(f'0{bin(i)}')\n",
    "    print(f'{bin(-i)}')\n",
    "    i -= i & -i\n",
    "print(i)"
   ]
  }
 ],
 "metadata": {
  "kernelspec": {
   "display_name": "Python 3",
   "language": "python",
   "name": "python3"
  },
  "language_info": {
   "codemirror_mode": {
    "name": "ipython",
    "version": 3
   },
   "file_extension": ".py",
   "mimetype": "text/x-python",
   "name": "python",
   "nbconvert_exporter": "python",
   "pygments_lexer": "ipython3",
   "version": "3.9.13"
  }
 },
 "nbformat": 4,
 "nbformat_minor": 2
}
