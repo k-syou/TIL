{
 "cells": [
  {
   "cell_type": "code",
   "execution_count": 4,
   "metadata": {},
   "outputs": [
    {
     "name": "stdout",
     "output_type": "stream",
     "text": [
      "--init--\n",
      "{1: 0, 2: 1, 3: 2}\n",
      "[1, 2, 3]\n",
      "[0, 0, 0, 0, 0, 0, 0, 0] 4 \n",
      "\n",
      "[0, 1, 0, 1, 0, 0, 1, 0] 0\n",
      "[0, 2, 1, 1, 0, 1, 1, 0] 1\n",
      "[0, 3, 2, 1, 1, 1, 1, 0] 3\n",
      "3\n"
     ]
    }
   ],
   "source": [
    "# import sys\n",
    "\n",
    "# input = sys.stdin.readline\n",
    "\n",
    "\n",
    "def build_seg_tree(n):\n",
    "    size = 1\n",
    "    while size < n:\n",
    "        size *= 2\n",
    "    tree = [0] * (2 * size)\n",
    "    return tree, size\n",
    "\n",
    "\n",
    "def seg_update(tree, size, pos, val):\n",
    "    pos += size\n",
    "    tree[pos] += val\n",
    "    while pos > 1:\n",
    "        pos //= 2\n",
    "        tree[pos] = tree[2 * pos] + tree[2 * pos + 1]\n",
    "\n",
    "\n",
    "def seg_query(tree, size, l, r):\n",
    "    # 구간 [l, r]의 합을 구함\n",
    "    res = 0\n",
    "    l += size\n",
    "    r += size\n",
    "    while l <= r:\n",
    "        if l % 2 == 1:\n",
    "            res += tree[l]\n",
    "            l += 1\n",
    "        if r % 2 == 0:\n",
    "            res += tree[r]\n",
    "            r -= 1\n",
    "        l //= 2\n",
    "        r //= 2\n",
    "    return res\n",
    "\n",
    "\n",
    "def main():\n",
    "    # n = int(input())\n",
    "    n = 3\n",
    "    # arr = list(map(int, input().split()))\n",
    "    arr = [3, 2, 1]\n",
    "\n",
    "    # 좌표 압축\n",
    "    coords = sorted(set(arr))\n",
    "    comp = {v: i for i, v in enumerate(coords)}\n",
    "    m = len(coords)\n",
    "\n",
    "    tree, size = build_seg_tree(m)\n",
    "    print(\"--init--\")\n",
    "    print(comp)\n",
    "    print(coords)\n",
    "    print(tree, size, '\\n')\n",
    "    inv_count = 0\n",
    "    for x in arr:\n",
    "        pos = comp[x]\n",
    "        # 현재 원소보다 큰 원소들의 개수를 구함\n",
    "        inv_count += seg_query(tree, size, pos + 1, m - 1)\n",
    "        seg_update(tree, size, pos, 1)\n",
    "        print(tree, inv_count)\n",
    "    print(inv_count)\n",
    "\n",
    "\n",
    "if __name__ == \"__main__\":\n",
    "    main()"
   ]
  },
  {
   "cell_type": "code",
   "execution_count": 6,
   "metadata": {},
   "outputs": [
    {
     "name": "stdout",
     "output_type": "stream",
     "text": [
      "11\n"
     ]
    }
   ],
   "source": [
    "n = int(input())\n",
    "arr = list(map(int, input().split()))\n",
    "coord = sorted(set(arr))\n",
    "comp = {v:i for i, v in enumerate(coord)}\n",
    "cnt = [0] * len(comp)\n",
    "res = 0\n",
    "for num in arr:\n",
    "    pos = comp[num]\n",
    "    for i in range(pos - 1, -1, -1):\n",
    "        cnt[i] += 1\n",
    "    res += cnt[pos]\n",
    "print(res)"
   ]
  }
 ],
 "metadata": {
  "kernelspec": {
   "display_name": "Python 3",
   "language": "python",
   "name": "python3"
  },
  "language_info": {
   "codemirror_mode": {
    "name": "ipython",
    "version": 3
   },
   "file_extension": ".py",
   "mimetype": "text/x-python",
   "name": "python",
   "nbconvert_exporter": "python",
   "pygments_lexer": "ipython3",
   "version": "3.9.13"
  }
 },
 "nbformat": 4,
 "nbformat_minor": 2
}
